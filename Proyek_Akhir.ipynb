{
  "nbformat": 4,
  "nbformat_minor": 0,
  "metadata": {
    "colab": {
      "provenance": []
    },
    "kernelspec": {
      "name": "python3",
      "display_name": "Python 3"
    },
    "language_info": {
      "name": "python"
    }
  },
  "cells": [
    {
      "cell_type": "code",
      "execution_count": 84,
      "metadata": {
        "id": "phK85TQTn_w7"
      },
      "outputs": [],
      "source": [
        "! chmod 600 /content/kaggle.json"
      ]
    },
    {
      "cell_type": "code",
      "source": [
        "! KAGGLE_CONFIG_DIR=/content/ kaggle datasets download -d aprabowo/indonesia-tourism-destination"
      ],
      "metadata": {
        "colab": {
          "base_uri": "https://localhost:8080/"
        },
        "id": "yNjlkI5MqlM_",
        "outputId": "1555c65a-8d6b-4d02-9c55-da039faffaa4"
      },
      "execution_count": 85,
      "outputs": [
        {
          "output_type": "stream",
          "name": "stdout",
          "text": [
            "Downloading indonesia-tourism-destination.zip to /content\n",
            "\r  0% 0.00/158k [00:00<?, ?B/s]\n",
            "\r100% 158k/158k [00:00<00:00, 69.3MB/s]\n"
          ]
        }
      ]
    },
    {
      "cell_type": "code",
      "source": [
        "!unzip /content/indonesia-tourism-destination.zip"
      ],
      "metadata": {
        "colab": {
          "base_uri": "https://localhost:8080/"
        },
        "id": "w8Wct07Zq1O1",
        "outputId": "03733026-2ed5-4ed4-d5ff-29ef3a8aa641"
      },
      "execution_count": 86,
      "outputs": [
        {
          "output_type": "stream",
          "name": "stdout",
          "text": [
            "Archive:  /content/indonesia-tourism-destination.zip\n",
            "  inflating: package_tourism.csv     \n",
            "  inflating: tourism_rating.csv      \n",
            "  inflating: tourism_with_id.csv     \n",
            "  inflating: user.csv                \n"
          ]
        }
      ]
    },
    {
      "cell_type": "code",
      "source": [
        "# Import library\n",
        "import pandas as pd\n",
        "import numpy as np\n",
        "from zipfile import ZipFile\n",
        "import tensorflow as tf\n",
        "from tensorflow import keras\n",
        "from tensorflow.keras import layers\n",
        "from pathlib import Path\n",
        "import matplotlib.pyplot as plt"
      ],
      "metadata": {
        "id": "Z6Yavzqmwvpl"
      },
      "execution_count": 87,
      "outputs": []
    },
    {
      "cell_type": "markdown",
      "source": [
        "Melakukan import library yang akan digunakan pada model"
      ],
      "metadata": {
        "id": "UpQAe9q1CRGw"
      }
    },
    {
      "cell_type": "markdown",
      "source": [
        "kita buat variable dengan nama df "
      ],
      "metadata": {
        "id": "BHpC54MDCkHM"
      }
    },
    {
      "cell_type": "code",
      "source": [
        "df = pd.read_csv('/content/tourism_rating.csv')\n",
        "df"
      ],
      "metadata": {
        "colab": {
          "base_uri": "https://localhost:8080/",
          "height": 424
        },
        "id": "VTS8OzdnxN4A",
        "outputId": "9cbbafb3-e508-48ad-8beb-b0b9d63132d8"
      },
      "execution_count": 88,
      "outputs": [
        {
          "output_type": "execute_result",
          "data": {
            "text/plain": [
              "      User_Id  Place_Id  Place_Ratings\n",
              "0           1       179              3\n",
              "1           1       344              2\n",
              "2           1         5              5\n",
              "3           1       373              3\n",
              "4           1       101              4\n",
              "...       ...       ...            ...\n",
              "9995      300       425              2\n",
              "9996      300        64              4\n",
              "9997      300       311              3\n",
              "9998      300       279              4\n",
              "9999      300       163              2\n",
              "\n",
              "[10000 rows x 3 columns]"
            ],
            "text/html": [
              "\n",
              "  <div id=\"df-d158f274-1cd9-49f2-8190-4a227a239cf5\">\n",
              "    <div class=\"colab-df-container\">\n",
              "      <div>\n",
              "<style scoped>\n",
              "    .dataframe tbody tr th:only-of-type {\n",
              "        vertical-align: middle;\n",
              "    }\n",
              "\n",
              "    .dataframe tbody tr th {\n",
              "        vertical-align: top;\n",
              "    }\n",
              "\n",
              "    .dataframe thead th {\n",
              "        text-align: right;\n",
              "    }\n",
              "</style>\n",
              "<table border=\"1\" class=\"dataframe\">\n",
              "  <thead>\n",
              "    <tr style=\"text-align: right;\">\n",
              "      <th></th>\n",
              "      <th>User_Id</th>\n",
              "      <th>Place_Id</th>\n",
              "      <th>Place_Ratings</th>\n",
              "    </tr>\n",
              "  </thead>\n",
              "  <tbody>\n",
              "    <tr>\n",
              "      <th>0</th>\n",
              "      <td>1</td>\n",
              "      <td>179</td>\n",
              "      <td>3</td>\n",
              "    </tr>\n",
              "    <tr>\n",
              "      <th>1</th>\n",
              "      <td>1</td>\n",
              "      <td>344</td>\n",
              "      <td>2</td>\n",
              "    </tr>\n",
              "    <tr>\n",
              "      <th>2</th>\n",
              "      <td>1</td>\n",
              "      <td>5</td>\n",
              "      <td>5</td>\n",
              "    </tr>\n",
              "    <tr>\n",
              "      <th>3</th>\n",
              "      <td>1</td>\n",
              "      <td>373</td>\n",
              "      <td>3</td>\n",
              "    </tr>\n",
              "    <tr>\n",
              "      <th>4</th>\n",
              "      <td>1</td>\n",
              "      <td>101</td>\n",
              "      <td>4</td>\n",
              "    </tr>\n",
              "    <tr>\n",
              "      <th>...</th>\n",
              "      <td>...</td>\n",
              "      <td>...</td>\n",
              "      <td>...</td>\n",
              "    </tr>\n",
              "    <tr>\n",
              "      <th>9995</th>\n",
              "      <td>300</td>\n",
              "      <td>425</td>\n",
              "      <td>2</td>\n",
              "    </tr>\n",
              "    <tr>\n",
              "      <th>9996</th>\n",
              "      <td>300</td>\n",
              "      <td>64</td>\n",
              "      <td>4</td>\n",
              "    </tr>\n",
              "    <tr>\n",
              "      <th>9997</th>\n",
              "      <td>300</td>\n",
              "      <td>311</td>\n",
              "      <td>3</td>\n",
              "    </tr>\n",
              "    <tr>\n",
              "      <th>9998</th>\n",
              "      <td>300</td>\n",
              "      <td>279</td>\n",
              "      <td>4</td>\n",
              "    </tr>\n",
              "    <tr>\n",
              "      <th>9999</th>\n",
              "      <td>300</td>\n",
              "      <td>163</td>\n",
              "      <td>2</td>\n",
              "    </tr>\n",
              "  </tbody>\n",
              "</table>\n",
              "<p>10000 rows × 3 columns</p>\n",
              "</div>\n",
              "      <button class=\"colab-df-convert\" onclick=\"convertToInteractive('df-d158f274-1cd9-49f2-8190-4a227a239cf5')\"\n",
              "              title=\"Convert this dataframe to an interactive table.\"\n",
              "              style=\"display:none;\">\n",
              "        \n",
              "  <svg xmlns=\"http://www.w3.org/2000/svg\" height=\"24px\"viewBox=\"0 0 24 24\"\n",
              "       width=\"24px\">\n",
              "    <path d=\"M0 0h24v24H0V0z\" fill=\"none\"/>\n",
              "    <path d=\"M18.56 5.44l.94 2.06.94-2.06 2.06-.94-2.06-.94-.94-2.06-.94 2.06-2.06.94zm-11 1L8.5 8.5l.94-2.06 2.06-.94-2.06-.94L8.5 2.5l-.94 2.06-2.06.94zm10 10l.94 2.06.94-2.06 2.06-.94-2.06-.94-.94-2.06-.94 2.06-2.06.94z\"/><path d=\"M17.41 7.96l-1.37-1.37c-.4-.4-.92-.59-1.43-.59-.52 0-1.04.2-1.43.59L10.3 9.45l-7.72 7.72c-.78.78-.78 2.05 0 2.83L4 21.41c.39.39.9.59 1.41.59.51 0 1.02-.2 1.41-.59l7.78-7.78 2.81-2.81c.8-.78.8-2.07 0-2.86zM5.41 20L4 18.59l7.72-7.72 1.47 1.35L5.41 20z\"/>\n",
              "  </svg>\n",
              "      </button>\n",
              "      \n",
              "  <style>\n",
              "    .colab-df-container {\n",
              "      display:flex;\n",
              "      flex-wrap:wrap;\n",
              "      gap: 12px;\n",
              "    }\n",
              "\n",
              "    .colab-df-convert {\n",
              "      background-color: #E8F0FE;\n",
              "      border: none;\n",
              "      border-radius: 50%;\n",
              "      cursor: pointer;\n",
              "      display: none;\n",
              "      fill: #1967D2;\n",
              "      height: 32px;\n",
              "      padding: 0 0 0 0;\n",
              "      width: 32px;\n",
              "    }\n",
              "\n",
              "    .colab-df-convert:hover {\n",
              "      background-color: #E2EBFA;\n",
              "      box-shadow: 0px 1px 2px rgba(60, 64, 67, 0.3), 0px 1px 3px 1px rgba(60, 64, 67, 0.15);\n",
              "      fill: #174EA6;\n",
              "    }\n",
              "\n",
              "    [theme=dark] .colab-df-convert {\n",
              "      background-color: #3B4455;\n",
              "      fill: #D2E3FC;\n",
              "    }\n",
              "\n",
              "    [theme=dark] .colab-df-convert:hover {\n",
              "      background-color: #434B5C;\n",
              "      box-shadow: 0px 1px 3px 1px rgba(0, 0, 0, 0.15);\n",
              "      filter: drop-shadow(0px 1px 2px rgba(0, 0, 0, 0.3));\n",
              "      fill: #FFFFFF;\n",
              "    }\n",
              "  </style>\n",
              "\n",
              "      <script>\n",
              "        const buttonEl =\n",
              "          document.querySelector('#df-d158f274-1cd9-49f2-8190-4a227a239cf5 button.colab-df-convert');\n",
              "        buttonEl.style.display =\n",
              "          google.colab.kernel.accessAllowed ? 'block' : 'none';\n",
              "\n",
              "        async function convertToInteractive(key) {\n",
              "          const element = document.querySelector('#df-d158f274-1cd9-49f2-8190-4a227a239cf5');\n",
              "          const dataTable =\n",
              "            await google.colab.kernel.invokeFunction('convertToInteractive',\n",
              "                                                     [key], {});\n",
              "          if (!dataTable) return;\n",
              "\n",
              "          const docLinkHtml = 'Like what you see? Visit the ' +\n",
              "            '<a target=\"_blank\" href=https://colab.research.google.com/notebooks/data_table.ipynb>data table notebook</a>'\n",
              "            + ' to learn more about interactive tables.';\n",
              "          element.innerHTML = '';\n",
              "          dataTable['output_type'] = 'display_data';\n",
              "          await google.colab.output.renderOutput(dataTable, element);\n",
              "          const docLink = document.createElement('div');\n",
              "          docLink.innerHTML = docLinkHtml;\n",
              "          element.appendChild(docLink);\n",
              "        }\n",
              "      </script>\n",
              "    </div>\n",
              "  </div>\n",
              "  "
            ]
          },
          "metadata": {},
          "execution_count": 88
        }
      ]
    },
    {
      "cell_type": "markdown",
      "source": [
        "Data rating memiliki 10000 baris dan 3 kolom"
      ],
      "metadata": {
        "id": "ZGQi32ZSCMQx"
      }
    },
    {
      "cell_type": "code",
      "source": [
        "# Mengubah User_Id menjadi list tanpa nilai yang sama\n",
        "user_ids = df['User_Id'].unique().tolist()\n",
        "print('list User_Id: ', user_ids)\n",
        "     \n",
        "# Melakukan encoding User_Id\n",
        "user_to_user_encoded = {x: i for i, x in enumerate(user_ids)}\n",
        "print('encoded User_Id : ', user_to_user_encoded)\n",
        "     \n",
        "# Melakukan proses encoding angka ke ke User_Id\n",
        "user_encoded_to_user = {i: x for i, x in enumerate(user_ids)}\n",
        "print('encoded angka ke user_Id: ', user_encoded_to_user)"
      ],
      "metadata": {
        "colab": {
          "base_uri": "https://localhost:8080/"
        },
        "id": "h2o8hTXxxiFB",
        "outputId": "7b497d00-729e-4c7d-ac57-d4dfa35aa80d"
      },
      "execution_count": 89,
      "outputs": [
        {
          "output_type": "stream",
          "name": "stdout",
          "text": [
            "list User_Id:  [1, 2, 3, 4, 5, 6, 7, 8, 9, 10, 11, 12, 13, 14, 15, 16, 17, 18, 19, 20, 21, 22, 23, 24, 25, 26, 27, 28, 29, 30, 31, 32, 33, 34, 35, 36, 37, 38, 39, 40, 41, 42, 43, 44, 45, 46, 47, 48, 49, 50, 51, 52, 53, 54, 55, 56, 57, 58, 59, 60, 61, 62, 63, 64, 65, 66, 67, 68, 69, 70, 71, 72, 73, 74, 75, 76, 77, 78, 79, 80, 81, 82, 83, 84, 85, 86, 87, 88, 89, 90, 91, 92, 93, 94, 95, 96, 97, 98, 99, 100, 101, 102, 103, 104, 105, 106, 107, 108, 109, 110, 111, 112, 113, 114, 115, 116, 117, 118, 119, 120, 121, 122, 123, 124, 125, 126, 127, 128, 129, 130, 131, 132, 133, 134, 135, 136, 137, 138, 139, 140, 141, 142, 143, 144, 145, 146, 147, 148, 149, 150, 151, 152, 153, 154, 155, 156, 157, 158, 159, 160, 161, 162, 163, 164, 165, 166, 167, 168, 169, 170, 171, 172, 173, 174, 175, 176, 177, 178, 179, 180, 181, 182, 183, 184, 185, 186, 187, 188, 189, 190, 191, 192, 193, 194, 195, 196, 197, 198, 199, 200, 201, 202, 203, 204, 205, 206, 207, 208, 209, 210, 211, 212, 213, 214, 215, 216, 217, 218, 219, 220, 221, 222, 223, 224, 225, 226, 227, 228, 229, 230, 231, 232, 233, 234, 235, 236, 237, 238, 239, 240, 241, 242, 243, 244, 245, 246, 247, 248, 249, 250, 251, 252, 253, 254, 255, 256, 257, 258, 259, 260, 261, 262, 263, 264, 265, 266, 267, 268, 269, 270, 271, 272, 273, 274, 275, 276, 277, 278, 279, 280, 281, 282, 283, 284, 285, 286, 287, 288, 289, 290, 291, 292, 293, 294, 295, 296, 297, 298, 299, 300]\n",
            "encoded User_Id :  {1: 0, 2: 1, 3: 2, 4: 3, 5: 4, 6: 5, 7: 6, 8: 7, 9: 8, 10: 9, 11: 10, 12: 11, 13: 12, 14: 13, 15: 14, 16: 15, 17: 16, 18: 17, 19: 18, 20: 19, 21: 20, 22: 21, 23: 22, 24: 23, 25: 24, 26: 25, 27: 26, 28: 27, 29: 28, 30: 29, 31: 30, 32: 31, 33: 32, 34: 33, 35: 34, 36: 35, 37: 36, 38: 37, 39: 38, 40: 39, 41: 40, 42: 41, 43: 42, 44: 43, 45: 44, 46: 45, 47: 46, 48: 47, 49: 48, 50: 49, 51: 50, 52: 51, 53: 52, 54: 53, 55: 54, 56: 55, 57: 56, 58: 57, 59: 58, 60: 59, 61: 60, 62: 61, 63: 62, 64: 63, 65: 64, 66: 65, 67: 66, 68: 67, 69: 68, 70: 69, 71: 70, 72: 71, 73: 72, 74: 73, 75: 74, 76: 75, 77: 76, 78: 77, 79: 78, 80: 79, 81: 80, 82: 81, 83: 82, 84: 83, 85: 84, 86: 85, 87: 86, 88: 87, 89: 88, 90: 89, 91: 90, 92: 91, 93: 92, 94: 93, 95: 94, 96: 95, 97: 96, 98: 97, 99: 98, 100: 99, 101: 100, 102: 101, 103: 102, 104: 103, 105: 104, 106: 105, 107: 106, 108: 107, 109: 108, 110: 109, 111: 110, 112: 111, 113: 112, 114: 113, 115: 114, 116: 115, 117: 116, 118: 117, 119: 118, 120: 119, 121: 120, 122: 121, 123: 122, 124: 123, 125: 124, 126: 125, 127: 126, 128: 127, 129: 128, 130: 129, 131: 130, 132: 131, 133: 132, 134: 133, 135: 134, 136: 135, 137: 136, 138: 137, 139: 138, 140: 139, 141: 140, 142: 141, 143: 142, 144: 143, 145: 144, 146: 145, 147: 146, 148: 147, 149: 148, 150: 149, 151: 150, 152: 151, 153: 152, 154: 153, 155: 154, 156: 155, 157: 156, 158: 157, 159: 158, 160: 159, 161: 160, 162: 161, 163: 162, 164: 163, 165: 164, 166: 165, 167: 166, 168: 167, 169: 168, 170: 169, 171: 170, 172: 171, 173: 172, 174: 173, 175: 174, 176: 175, 177: 176, 178: 177, 179: 178, 180: 179, 181: 180, 182: 181, 183: 182, 184: 183, 185: 184, 186: 185, 187: 186, 188: 187, 189: 188, 190: 189, 191: 190, 192: 191, 193: 192, 194: 193, 195: 194, 196: 195, 197: 196, 198: 197, 199: 198, 200: 199, 201: 200, 202: 201, 203: 202, 204: 203, 205: 204, 206: 205, 207: 206, 208: 207, 209: 208, 210: 209, 211: 210, 212: 211, 213: 212, 214: 213, 215: 214, 216: 215, 217: 216, 218: 217, 219: 218, 220: 219, 221: 220, 222: 221, 223: 222, 224: 223, 225: 224, 226: 225, 227: 226, 228: 227, 229: 228, 230: 229, 231: 230, 232: 231, 233: 232, 234: 233, 235: 234, 236: 235, 237: 236, 238: 237, 239: 238, 240: 239, 241: 240, 242: 241, 243: 242, 244: 243, 245: 244, 246: 245, 247: 246, 248: 247, 249: 248, 250: 249, 251: 250, 252: 251, 253: 252, 254: 253, 255: 254, 256: 255, 257: 256, 258: 257, 259: 258, 260: 259, 261: 260, 262: 261, 263: 262, 264: 263, 265: 264, 266: 265, 267: 266, 268: 267, 269: 268, 270: 269, 271: 270, 272: 271, 273: 272, 274: 273, 275: 274, 276: 275, 277: 276, 278: 277, 279: 278, 280: 279, 281: 280, 282: 281, 283: 282, 284: 283, 285: 284, 286: 285, 287: 286, 288: 287, 289: 288, 290: 289, 291: 290, 292: 291, 293: 292, 294: 293, 295: 294, 296: 295, 297: 296, 298: 297, 299: 298, 300: 299}\n",
            "encoded angka ke user_Id:  {0: 1, 1: 2, 2: 3, 3: 4, 4: 5, 5: 6, 6: 7, 7: 8, 8: 9, 9: 10, 10: 11, 11: 12, 12: 13, 13: 14, 14: 15, 15: 16, 16: 17, 17: 18, 18: 19, 19: 20, 20: 21, 21: 22, 22: 23, 23: 24, 24: 25, 25: 26, 26: 27, 27: 28, 28: 29, 29: 30, 30: 31, 31: 32, 32: 33, 33: 34, 34: 35, 35: 36, 36: 37, 37: 38, 38: 39, 39: 40, 40: 41, 41: 42, 42: 43, 43: 44, 44: 45, 45: 46, 46: 47, 47: 48, 48: 49, 49: 50, 50: 51, 51: 52, 52: 53, 53: 54, 54: 55, 55: 56, 56: 57, 57: 58, 58: 59, 59: 60, 60: 61, 61: 62, 62: 63, 63: 64, 64: 65, 65: 66, 66: 67, 67: 68, 68: 69, 69: 70, 70: 71, 71: 72, 72: 73, 73: 74, 74: 75, 75: 76, 76: 77, 77: 78, 78: 79, 79: 80, 80: 81, 81: 82, 82: 83, 83: 84, 84: 85, 85: 86, 86: 87, 87: 88, 88: 89, 89: 90, 90: 91, 91: 92, 92: 93, 93: 94, 94: 95, 95: 96, 96: 97, 97: 98, 98: 99, 99: 100, 100: 101, 101: 102, 102: 103, 103: 104, 104: 105, 105: 106, 106: 107, 107: 108, 108: 109, 109: 110, 110: 111, 111: 112, 112: 113, 113: 114, 114: 115, 115: 116, 116: 117, 117: 118, 118: 119, 119: 120, 120: 121, 121: 122, 122: 123, 123: 124, 124: 125, 125: 126, 126: 127, 127: 128, 128: 129, 129: 130, 130: 131, 131: 132, 132: 133, 133: 134, 134: 135, 135: 136, 136: 137, 137: 138, 138: 139, 139: 140, 140: 141, 141: 142, 142: 143, 143: 144, 144: 145, 145: 146, 146: 147, 147: 148, 148: 149, 149: 150, 150: 151, 151: 152, 152: 153, 153: 154, 154: 155, 155: 156, 156: 157, 157: 158, 158: 159, 159: 160, 160: 161, 161: 162, 162: 163, 163: 164, 164: 165, 165: 166, 166: 167, 167: 168, 168: 169, 169: 170, 170: 171, 171: 172, 172: 173, 173: 174, 174: 175, 175: 176, 176: 177, 177: 178, 178: 179, 179: 180, 180: 181, 181: 182, 182: 183, 183: 184, 184: 185, 185: 186, 186: 187, 187: 188, 188: 189, 189: 190, 190: 191, 191: 192, 192: 193, 193: 194, 194: 195, 195: 196, 196: 197, 197: 198, 198: 199, 199: 200, 200: 201, 201: 202, 202: 203, 203: 204, 204: 205, 205: 206, 206: 207, 207: 208, 208: 209, 209: 210, 210: 211, 211: 212, 212: 213, 213: 214, 214: 215, 215: 216, 216: 217, 217: 218, 218: 219, 219: 220, 220: 221, 221: 222, 222: 223, 223: 224, 224: 225, 225: 226, 226: 227, 227: 228, 228: 229, 229: 230, 230: 231, 231: 232, 232: 233, 233: 234, 234: 235, 235: 236, 236: 237, 237: 238, 238: 239, 239: 240, 240: 241, 241: 242, 242: 243, 243: 244, 244: 245, 245: 246, 246: 247, 247: 248, 248: 249, 249: 250, 250: 251, 251: 252, 252: 253, 253: 254, 254: 255, 255: 256, 256: 257, 257: 258, 258: 259, 259: 260, 260: 261, 261: 262, 262: 263, 263: 264, 264: 265, 265: 266, 266: 267, 267: 268, 268: 269, 269: 270, 270: 271, 271: 272, 272: 273, 273: 274, 274: 275, 275: 276, 276: 277, 277: 278, 278: 279, 279: 280, 280: 281, 281: 282, 282: 283, 283: 284, 284: 285, 285: 286, 286: 287, 287: 288, 288: 289, 289: 290, 290: 291, 291: 292, 292: 293, 293: 294, 294: 295, 295: 296, 296: 297, 297: 298, 298: 299, 299: 300}\n"
          ]
        }
      ]
    },
    {
      "cell_type": "markdown",
      "source": [
        "Kita telah mengubah fitur User_Id ke dalam indeks integer "
      ],
      "metadata": {
        "id": "AaMm1e_1Cwmv"
      }
    },
    {
      "cell_type": "code",
      "source": [
        "# Mengubah Place_Id menjadi list tanpa nilai yang sama\n",
        "tourism_ids = df['Place_Id'].unique().tolist()\n",
        "     \n",
        "# Melakukan proses encoding Place_Id\n",
        "tourism_to_tourism_encoded = {x: i for i, x in enumerate(tourism_ids)}\n",
        "     \n",
        "# Melakukan proses encoding angka ke Place_Id\n",
        "tourism_encoded_to_tourism = {i: x for i, x in enumerate(tourism_ids)}"
      ],
      "metadata": {
        "id": "hnrkP08lxh6U"
      },
      "execution_count": 90,
      "outputs": []
    },
    {
      "cell_type": "markdown",
      "source": [
        "Kita telah mengubah fitur Place_Id ke dalam indeks integer "
      ],
      "metadata": {
        "id": "pqfVP8jfDHfK"
      }
    },
    {
      "cell_type": "code",
      "source": [
        "# Mapping User_Id ke dataframe user\n",
        "df['user'] = df['User_Id'].map(user_to_user_encoded)\n",
        "     \n",
        "# Mapping Place_Id ke dataframe tourism\n",
        "df['tourism'] = df['Place_Id'].map(tourism_to_tourism_encoded)"
      ],
      "metadata": {
        "id": "yj0Pd6CSy01V"
      },
      "execution_count": 91,
      "outputs": []
    },
    {
      "cell_type": "markdown",
      "source": [
        "Kita telah memetakan User_Id dan Place_Id ke dataframe yang berkaitan"
      ],
      "metadata": {
        "id": "svC4KMSwDaEH"
      }
    },
    {
      "cell_type": "code",
      "source": [
        "# Mendapatkan jumlah user\n",
        "num_users = len(user_to_user_encoded)\n",
        "print(num_users)\n",
        "     \n",
        "# Mendapatkan jumlah tourism\n",
        "num_tourism = len(tourism_encoded_to_tourism)\n",
        "print(num_tourism)\n",
        " \n",
        "# Mengubah rating menjadi nilai float\n",
        "df['Place_Ratings'] = df['Place_Ratings'].values.astype(np.float32)\n",
        "     \n",
        "# Nilai minimum rating\n",
        "min_rating = min(df['Place_Ratings'])\n",
        "     \n",
        "# Nilai maksimal rating\n",
        "max_rating = max(df['Place_Ratings'])\n",
        "     \n",
        "print('Number of User: {}, Number of Tourism: {}, Min Rating: {}, Max Rating: {}'.format(\n",
        "    num_users, num_tourism, min_rating, max_rating\n",
        "))"
      ],
      "metadata": {
        "colab": {
          "base_uri": "https://localhost:8080/"
        },
        "id": "JKV6SHWDzIjl",
        "outputId": "285a9b76-6b11-46c1-c8a5-48ddc58d2fc1"
      },
      "execution_count": 92,
      "outputs": [
        {
          "output_type": "stream",
          "name": "stdout",
          "text": [
            "300\n",
            "437\n",
            "Number of User: 300, Number of Tourism: 437, Min Rating: 1.0, Max Rating: 5.0\n"
          ]
        }
      ]
    },
    {
      "cell_type": "markdown",
      "source": [
        "Berdasarkan data di atas terdapat 300 jumlah user, 437 jumlah Tourism, dan mengubah nilai rating menjadi float"
      ],
      "metadata": {
        "id": "vkaQshhZDmo5"
      }
    },
    {
      "cell_type": "code",
      "source": [
        "# Mengacak dataset\n",
        "df = df.sample(frac=1, random_state=42)\n",
        "df"
      ],
      "metadata": {
        "colab": {
          "base_uri": "https://localhost:8080/",
          "height": 424
        },
        "id": "AylWHAQ707Pm",
        "outputId": "1a15a4cf-d25f-42cf-ba8b-16d55c8af0be"
      },
      "execution_count": 93,
      "outputs": [
        {
          "output_type": "execute_result",
          "data": {
            "text/plain": [
              "      User_Id  Place_Id  Place_Ratings  user  tourism\n",
              "6252      188       207            3.0   187      262\n",
              "4684      142       268            2.0   141       83\n",
              "1731       54       103            3.0    53       10\n",
              "4742      144       119            3.0   143      141\n",
              "4521      138       288            5.0   137      283\n",
              "...       ...       ...            ...   ...      ...\n",
              "5734      173       402            5.0   172      175\n",
              "5191      157        85            4.0   156       33\n",
              "5390      163        18            3.0   162       52\n",
              "860        28       416            4.0    27      187\n",
              "7270      219       258            2.0   218        6\n",
              "\n",
              "[10000 rows x 5 columns]"
            ],
            "text/html": [
              "\n",
              "  <div id=\"df-98bdb944-8c75-4142-8c18-55c8c63f7550\">\n",
              "    <div class=\"colab-df-container\">\n",
              "      <div>\n",
              "<style scoped>\n",
              "    .dataframe tbody tr th:only-of-type {\n",
              "        vertical-align: middle;\n",
              "    }\n",
              "\n",
              "    .dataframe tbody tr th {\n",
              "        vertical-align: top;\n",
              "    }\n",
              "\n",
              "    .dataframe thead th {\n",
              "        text-align: right;\n",
              "    }\n",
              "</style>\n",
              "<table border=\"1\" class=\"dataframe\">\n",
              "  <thead>\n",
              "    <tr style=\"text-align: right;\">\n",
              "      <th></th>\n",
              "      <th>User_Id</th>\n",
              "      <th>Place_Id</th>\n",
              "      <th>Place_Ratings</th>\n",
              "      <th>user</th>\n",
              "      <th>tourism</th>\n",
              "    </tr>\n",
              "  </thead>\n",
              "  <tbody>\n",
              "    <tr>\n",
              "      <th>6252</th>\n",
              "      <td>188</td>\n",
              "      <td>207</td>\n",
              "      <td>3.0</td>\n",
              "      <td>187</td>\n",
              "      <td>262</td>\n",
              "    </tr>\n",
              "    <tr>\n",
              "      <th>4684</th>\n",
              "      <td>142</td>\n",
              "      <td>268</td>\n",
              "      <td>2.0</td>\n",
              "      <td>141</td>\n",
              "      <td>83</td>\n",
              "    </tr>\n",
              "    <tr>\n",
              "      <th>1731</th>\n",
              "      <td>54</td>\n",
              "      <td>103</td>\n",
              "      <td>3.0</td>\n",
              "      <td>53</td>\n",
              "      <td>10</td>\n",
              "    </tr>\n",
              "    <tr>\n",
              "      <th>4742</th>\n",
              "      <td>144</td>\n",
              "      <td>119</td>\n",
              "      <td>3.0</td>\n",
              "      <td>143</td>\n",
              "      <td>141</td>\n",
              "    </tr>\n",
              "    <tr>\n",
              "      <th>4521</th>\n",
              "      <td>138</td>\n",
              "      <td>288</td>\n",
              "      <td>5.0</td>\n",
              "      <td>137</td>\n",
              "      <td>283</td>\n",
              "    </tr>\n",
              "    <tr>\n",
              "      <th>...</th>\n",
              "      <td>...</td>\n",
              "      <td>...</td>\n",
              "      <td>...</td>\n",
              "      <td>...</td>\n",
              "      <td>...</td>\n",
              "    </tr>\n",
              "    <tr>\n",
              "      <th>5734</th>\n",
              "      <td>173</td>\n",
              "      <td>402</td>\n",
              "      <td>5.0</td>\n",
              "      <td>172</td>\n",
              "      <td>175</td>\n",
              "    </tr>\n",
              "    <tr>\n",
              "      <th>5191</th>\n",
              "      <td>157</td>\n",
              "      <td>85</td>\n",
              "      <td>4.0</td>\n",
              "      <td>156</td>\n",
              "      <td>33</td>\n",
              "    </tr>\n",
              "    <tr>\n",
              "      <th>5390</th>\n",
              "      <td>163</td>\n",
              "      <td>18</td>\n",
              "      <td>3.0</td>\n",
              "      <td>162</td>\n",
              "      <td>52</td>\n",
              "    </tr>\n",
              "    <tr>\n",
              "      <th>860</th>\n",
              "      <td>28</td>\n",
              "      <td>416</td>\n",
              "      <td>4.0</td>\n",
              "      <td>27</td>\n",
              "      <td>187</td>\n",
              "    </tr>\n",
              "    <tr>\n",
              "      <th>7270</th>\n",
              "      <td>219</td>\n",
              "      <td>258</td>\n",
              "      <td>2.0</td>\n",
              "      <td>218</td>\n",
              "      <td>6</td>\n",
              "    </tr>\n",
              "  </tbody>\n",
              "</table>\n",
              "<p>10000 rows × 5 columns</p>\n",
              "</div>\n",
              "      <button class=\"colab-df-convert\" onclick=\"convertToInteractive('df-98bdb944-8c75-4142-8c18-55c8c63f7550')\"\n",
              "              title=\"Convert this dataframe to an interactive table.\"\n",
              "              style=\"display:none;\">\n",
              "        \n",
              "  <svg xmlns=\"http://www.w3.org/2000/svg\" height=\"24px\"viewBox=\"0 0 24 24\"\n",
              "       width=\"24px\">\n",
              "    <path d=\"M0 0h24v24H0V0z\" fill=\"none\"/>\n",
              "    <path d=\"M18.56 5.44l.94 2.06.94-2.06 2.06-.94-2.06-.94-.94-2.06-.94 2.06-2.06.94zm-11 1L8.5 8.5l.94-2.06 2.06-.94-2.06-.94L8.5 2.5l-.94 2.06-2.06.94zm10 10l.94 2.06.94-2.06 2.06-.94-2.06-.94-.94-2.06-.94 2.06-2.06.94z\"/><path d=\"M17.41 7.96l-1.37-1.37c-.4-.4-.92-.59-1.43-.59-.52 0-1.04.2-1.43.59L10.3 9.45l-7.72 7.72c-.78.78-.78 2.05 0 2.83L4 21.41c.39.39.9.59 1.41.59.51 0 1.02-.2 1.41-.59l7.78-7.78 2.81-2.81c.8-.78.8-2.07 0-2.86zM5.41 20L4 18.59l7.72-7.72 1.47 1.35L5.41 20z\"/>\n",
              "  </svg>\n",
              "      </button>\n",
              "      \n",
              "  <style>\n",
              "    .colab-df-container {\n",
              "      display:flex;\n",
              "      flex-wrap:wrap;\n",
              "      gap: 12px;\n",
              "    }\n",
              "\n",
              "    .colab-df-convert {\n",
              "      background-color: #E8F0FE;\n",
              "      border: none;\n",
              "      border-radius: 50%;\n",
              "      cursor: pointer;\n",
              "      display: none;\n",
              "      fill: #1967D2;\n",
              "      height: 32px;\n",
              "      padding: 0 0 0 0;\n",
              "      width: 32px;\n",
              "    }\n",
              "\n",
              "    .colab-df-convert:hover {\n",
              "      background-color: #E2EBFA;\n",
              "      box-shadow: 0px 1px 2px rgba(60, 64, 67, 0.3), 0px 1px 3px 1px rgba(60, 64, 67, 0.15);\n",
              "      fill: #174EA6;\n",
              "    }\n",
              "\n",
              "    [theme=dark] .colab-df-convert {\n",
              "      background-color: #3B4455;\n",
              "      fill: #D2E3FC;\n",
              "    }\n",
              "\n",
              "    [theme=dark] .colab-df-convert:hover {\n",
              "      background-color: #434B5C;\n",
              "      box-shadow: 0px 1px 3px 1px rgba(0, 0, 0, 0.15);\n",
              "      filter: drop-shadow(0px 1px 2px rgba(0, 0, 0, 0.3));\n",
              "      fill: #FFFFFF;\n",
              "    }\n",
              "  </style>\n",
              "\n",
              "      <script>\n",
              "        const buttonEl =\n",
              "          document.querySelector('#df-98bdb944-8c75-4142-8c18-55c8c63f7550 button.colab-df-convert');\n",
              "        buttonEl.style.display =\n",
              "          google.colab.kernel.accessAllowed ? 'block' : 'none';\n",
              "\n",
              "        async function convertToInteractive(key) {\n",
              "          const element = document.querySelector('#df-98bdb944-8c75-4142-8c18-55c8c63f7550');\n",
              "          const dataTable =\n",
              "            await google.colab.kernel.invokeFunction('convertToInteractive',\n",
              "                                                     [key], {});\n",
              "          if (!dataTable) return;\n",
              "\n",
              "          const docLinkHtml = 'Like what you see? Visit the ' +\n",
              "            '<a target=\"_blank\" href=https://colab.research.google.com/notebooks/data_table.ipynb>data table notebook</a>'\n",
              "            + ' to learn more about interactive tables.';\n",
              "          element.innerHTML = '';\n",
              "          dataTable['output_type'] = 'display_data';\n",
              "          await google.colab.output.renderOutput(dataTable, element);\n",
              "          const docLink = document.createElement('div');\n",
              "          docLink.innerHTML = docLinkHtml;\n",
              "          element.appendChild(docLink);\n",
              "        }\n",
              "      </script>\n",
              "    </div>\n",
              "  </div>\n",
              "  "
            ]
          },
          "metadata": {},
          "execution_count": 93
        }
      ]
    },
    {
      "cell_type": "markdown",
      "source": [
        "Dapat kita lihat bahwa data pada tabel di atas telah di acak "
      ],
      "metadata": {
        "id": "10YlgBmtES92"
      }
    },
    {
      "cell_type": "code",
      "source": [
        "# Membuat variabel x untuk mencocokkan data user dan tourism menjadi satu value\n",
        "x = df[['user', 'tourism']].values\n",
        "     \n",
        "# Membuat variabel y untuk membuat rating dari hasil \n",
        "y = df['Place_Ratings'].apply(lambda x: (x - min_rating) / (max_rating - min_rating)).values\n",
        "     \n",
        "# Membagi menjadi 80% data train dan 20% data validasi\n",
        "train_indices = int(0.8 * df.shape[0])\n",
        "x_train, x_val, y_train, y_val = (\n",
        "    x[:train_indices],\n",
        "    x[train_indices:],\n",
        "    y[:train_indices],\n",
        "    y[train_indices:]\n",
        ")\n",
        "     \n",
        "print(x, y)"
      ],
      "metadata": {
        "colab": {
          "base_uri": "https://localhost:8080/"
        },
        "id": "w1zgHoft1GSz",
        "outputId": "d7dc2f7d-5fc7-4854-8661-d3f7297eb9e2"
      },
      "execution_count": 94,
      "outputs": [
        {
          "output_type": "stream",
          "name": "stdout",
          "text": [
            "[[187 262]\n",
            " [141  83]\n",
            " [ 53  10]\n",
            " ...\n",
            " [162  52]\n",
            " [ 27 187]\n",
            " [218   6]] [0.5  0.25 0.5  ... 0.5  0.75 0.25]\n"
          ]
        }
      ]
    },
    {
      "cell_type": "markdown",
      "source": [
        "Kita telah membagi data train dan validasi dengan komposisi 80:20"
      ],
      "metadata": {
        "id": "-fNk-vzbEsNl"
      }
    },
    {
      "cell_type": "code",
      "source": [
        "class RecommenderNet(tf.keras.Model):\n",
        "\n",
        "  # insialisasi fungsi\n",
        "  def __init__(self, num_users, num_tourism, embedding_size, **kwargs):\n",
        "    super(RecommenderNet, self).__init__(**kwargs)\n",
        "    self.num_users = num_users\n",
        "    self.num_tourism = num_tourism\n",
        "    self.embedding_size = embedding_size\n",
        "    self.user_embedding = layers.Embedding( # layer embedding user\n",
        "        num_users,\n",
        "        embedding_size,\n",
        "        embeddings_initializer = 'he_normal',\n",
        "        embeddings_regularizer = keras.regularizers.l2(1e-6)\n",
        "    )\n",
        "    self.user_bias = layers.Embedding(num_users, 1) # layer embedding user bias\n",
        "    self.tourism_embedding = layers.Embedding( # layer embeddings resto\n",
        "        num_tourism,\n",
        "        embedding_size,\n",
        "        embeddings_initializer = 'he_normal',\n",
        "        embeddings_regularizer = keras.regularizers.l2(1e-6)\n",
        "    )\n",
        "    self.tourism_bias = layers.Embedding(num_tourism, 1) # layer embedding resto bias\n",
        " \n",
        "  def call(self, inputs):\n",
        "    user_vector = self.user_embedding(inputs[:,0]) # memanggil layer embedding 1\n",
        "    user_bias = self.user_bias(inputs[:, 0]) # memanggil layer embedding 2\n",
        "    tourism_vector = self.tourism_embedding(inputs[:, 1]) # memanggil layer embedding 3\n",
        "    tourism_bias = self.tourism_bias(inputs[:, 1]) # memanggil layer embedding 4\n",
        " \n",
        "    dot_user_tourism = tf.tensordot(user_vector, tourism_vector, 2) \n",
        " \n",
        "    x = dot_user_tourism + user_bias + tourism_bias\n",
        "    \n",
        "    return tf.nn.sigmoid(x) # activation sigmoid"
      ],
      "metadata": {
        "id": "XsrqdRx61ii1"
      },
      "execution_count": 95,
      "outputs": []
    },
    {
      "cell_type": "markdown",
      "source": [
        "Membuat class RecommenderNet dengan keras Model class"
      ],
      "metadata": {
        "id": "q-rZ8CRK9XJg"
      }
    },
    {
      "cell_type": "code",
      "source": [
        "model = RecommenderNet(num_users, num_tourism, 50) #inisialisasi model\n",
        "\n",
        "# model compile\n",
        "model.compile(\n",
        "    loss = tf.keras.losses.BinaryCrossentropy(),\n",
        "    optimizer = keras.optimizers.Adam(learning_rate=0.001),\n",
        "    metrics=[tf.keras.metrics.RootMeanSquaredError()]\n",
        ")"
      ],
      "metadata": {
        "id": "2SWWEr9S2jN8"
      },
      "execution_count": 96,
      "outputs": []
    },
    {
      "cell_type": "markdown",
      "source": [
        "Model ini menggunakan Binary Crossentropy untuk menghitung loss function, Adam(Adaptive Moment Estimation) sebagai optimizer, dan root mean squeared error(RMSE) sebagai metrics evalution."
      ],
      "metadata": {
        "id": "tLE3Ma-Z8nus"
      }
    },
    {
      "cell_type": "code",
      "source": [
        "# Memulai training\n",
        "     \n",
        "history = model.fit(\n",
        "    x = x_train,\n",
        "    y = y_train,\n",
        "    batch_size = 8,\n",
        "    epochs = 100,\n",
        "    validation_data = (x_val, y_val)\n",
        ")"
      ],
      "metadata": {
        "colab": {
          "base_uri": "https://localhost:8080/"
        },
        "id": "LE7aflDQ3DyC",
        "outputId": "5fc00300-245d-4a45-c6f9-a521fd717d57"
      },
      "execution_count": 97,
      "outputs": [
        {
          "output_type": "stream",
          "name": "stdout",
          "text": [
            "Epoch 1/100\n",
            "1000/1000 [==============================] - 3s 2ms/step - loss: 0.6942 - root_mean_squared_error: 0.3461 - val_loss: 0.6933 - val_root_mean_squared_error: 0.3451\n",
            "Epoch 2/100\n",
            "1000/1000 [==============================] - 2s 2ms/step - loss: 0.6866 - root_mean_squared_error: 0.3405 - val_loss: 0.6939 - val_root_mean_squared_error: 0.3455\n",
            "Epoch 3/100\n",
            "1000/1000 [==============================] - 2s 2ms/step - loss: 0.6813 - root_mean_squared_error: 0.3367 - val_loss: 0.6949 - val_root_mean_squared_error: 0.3462\n",
            "Epoch 4/100\n",
            "1000/1000 [==============================] - 2s 2ms/step - loss: 0.6769 - root_mean_squared_error: 0.3335 - val_loss: 0.6955 - val_root_mean_squared_error: 0.3466\n",
            "Epoch 5/100\n",
            "1000/1000 [==============================] - 2s 2ms/step - loss: 0.6713 - root_mean_squared_error: 0.3293 - val_loss: 0.6969 - val_root_mean_squared_error: 0.3475\n",
            "Epoch 6/100\n",
            "1000/1000 [==============================] - 2s 2ms/step - loss: 0.6684 - root_mean_squared_error: 0.3272 - val_loss: 0.6985 - val_root_mean_squared_error: 0.3485\n",
            "Epoch 7/100\n",
            "1000/1000 [==============================] - 4s 4ms/step - loss: 0.6662 - root_mean_squared_error: 0.3256 - val_loss: 0.6997 - val_root_mean_squared_error: 0.3493\n",
            "Epoch 8/100\n",
            "1000/1000 [==============================] - 3s 3ms/step - loss: 0.6618 - root_mean_squared_error: 0.3223 - val_loss: 0.7017 - val_root_mean_squared_error: 0.3506\n",
            "Epoch 9/100\n",
            "1000/1000 [==============================] - 2s 2ms/step - loss: 0.6641 - root_mean_squared_error: 0.3241 - val_loss: 0.7029 - val_root_mean_squared_error: 0.3514\n",
            "Epoch 10/100\n",
            "1000/1000 [==============================] - 2s 2ms/step - loss: 0.6588 - root_mean_squared_error: 0.3201 - val_loss: 0.7060 - val_root_mean_squared_error: 0.3535\n",
            "Epoch 11/100\n",
            "1000/1000 [==============================] - 2s 2ms/step - loss: 0.6609 - root_mean_squared_error: 0.3217 - val_loss: 0.7066 - val_root_mean_squared_error: 0.3538\n",
            "Epoch 12/100\n",
            "1000/1000 [==============================] - 2s 2ms/step - loss: 0.6552 - root_mean_squared_error: 0.3174 - val_loss: 0.7065 - val_root_mean_squared_error: 0.3536\n",
            "Epoch 13/100\n",
            "1000/1000 [==============================] - 2s 2ms/step - loss: 0.6560 - root_mean_squared_error: 0.3181 - val_loss: 0.7071 - val_root_mean_squared_error: 0.3539\n",
            "Epoch 14/100\n",
            "1000/1000 [==============================] - 2s 2ms/step - loss: 0.6552 - root_mean_squared_error: 0.3176 - val_loss: 0.7078 - val_root_mean_squared_error: 0.3543\n",
            "Epoch 15/100\n",
            "1000/1000 [==============================] - 2s 2ms/step - loss: 0.6545 - root_mean_squared_error: 0.3170 - val_loss: 0.7090 - val_root_mean_squared_error: 0.3551\n",
            "Epoch 16/100\n",
            "1000/1000 [==============================] - 2s 2ms/step - loss: 0.6538 - root_mean_squared_error: 0.3164 - val_loss: 0.7088 - val_root_mean_squared_error: 0.3549\n",
            "Epoch 17/100\n",
            "1000/1000 [==============================] - 2s 2ms/step - loss: 0.6528 - root_mean_squared_error: 0.3157 - val_loss: 0.7096 - val_root_mean_squared_error: 0.3554\n",
            "Epoch 18/100\n",
            "1000/1000 [==============================] - 2s 2ms/step - loss: 0.6504 - root_mean_squared_error: 0.3139 - val_loss: 0.7105 - val_root_mean_squared_error: 0.3559\n",
            "Epoch 19/100\n",
            "1000/1000 [==============================] - 2s 2ms/step - loss: 0.6560 - root_mean_squared_error: 0.3180 - val_loss: 0.7106 - val_root_mean_squared_error: 0.3561\n",
            "Epoch 20/100\n",
            "1000/1000 [==============================] - 2s 2ms/step - loss: 0.6525 - root_mean_squared_error: 0.3155 - val_loss: 0.7120 - val_root_mean_squared_error: 0.3568\n",
            "Epoch 21/100\n",
            "1000/1000 [==============================] - 2s 2ms/step - loss: 0.6518 - root_mean_squared_error: 0.3150 - val_loss: 0.7127 - val_root_mean_squared_error: 0.3572\n",
            "Epoch 22/100\n",
            "1000/1000 [==============================] - 2s 2ms/step - loss: 0.6526 - root_mean_squared_error: 0.3157 - val_loss: 0.7135 - val_root_mean_squared_error: 0.3577\n",
            "Epoch 23/100\n",
            "1000/1000 [==============================] - 2s 2ms/step - loss: 0.6503 - root_mean_squared_error: 0.3141 - val_loss: 0.7145 - val_root_mean_squared_error: 0.3583\n",
            "Epoch 24/100\n",
            "1000/1000 [==============================] - 2s 2ms/step - loss: 0.6517 - root_mean_squared_error: 0.3149 - val_loss: 0.7144 - val_root_mean_squared_error: 0.3582\n",
            "Epoch 25/100\n",
            "1000/1000 [==============================] - 2s 2ms/step - loss: 0.6518 - root_mean_squared_error: 0.3148 - val_loss: 0.7161 - val_root_mean_squared_error: 0.3593\n",
            "Epoch 26/100\n",
            "1000/1000 [==============================] - 2s 2ms/step - loss: 0.6526 - root_mean_squared_error: 0.3155 - val_loss: 0.7156 - val_root_mean_squared_error: 0.3589\n",
            "Epoch 27/100\n",
            "1000/1000 [==============================] - 2s 2ms/step - loss: 0.6504 - root_mean_squared_error: 0.3140 - val_loss: 0.7161 - val_root_mean_squared_error: 0.3592\n",
            "Epoch 28/100\n",
            "1000/1000 [==============================] - 2s 2ms/step - loss: 0.6483 - root_mean_squared_error: 0.3123 - val_loss: 0.7178 - val_root_mean_squared_error: 0.3603\n",
            "Epoch 29/100\n",
            "1000/1000 [==============================] - 2s 2ms/step - loss: 0.6518 - root_mean_squared_error: 0.3152 - val_loss: 0.7159 - val_root_mean_squared_error: 0.3591\n",
            "Epoch 30/100\n",
            "1000/1000 [==============================] - 2s 2ms/step - loss: 0.6500 - root_mean_squared_error: 0.3135 - val_loss: 0.7169 - val_root_mean_squared_error: 0.3597\n",
            "Epoch 31/100\n",
            "1000/1000 [==============================] - 2s 2ms/step - loss: 0.6502 - root_mean_squared_error: 0.3137 - val_loss: 0.7162 - val_root_mean_squared_error: 0.3592\n",
            "Epoch 32/100\n",
            "1000/1000 [==============================] - 2s 2ms/step - loss: 0.6499 - root_mean_squared_error: 0.3134 - val_loss: 0.7151 - val_root_mean_squared_error: 0.3585\n",
            "Epoch 33/100\n",
            "1000/1000 [==============================] - 2s 2ms/step - loss: 0.6520 - root_mean_squared_error: 0.3151 - val_loss: 0.7169 - val_root_mean_squared_error: 0.3595\n",
            "Epoch 34/100\n",
            "1000/1000 [==============================] - 2s 2ms/step - loss: 0.6487 - root_mean_squared_error: 0.3126 - val_loss: 0.7176 - val_root_mean_squared_error: 0.3599\n",
            "Epoch 35/100\n",
            "1000/1000 [==============================] - 2s 2ms/step - loss: 0.6486 - root_mean_squared_error: 0.3125 - val_loss: 0.7167 - val_root_mean_squared_error: 0.3593\n",
            "Epoch 36/100\n",
            "1000/1000 [==============================] - 2s 2ms/step - loss: 0.6509 - root_mean_squared_error: 0.3142 - val_loss: 0.7171 - val_root_mean_squared_error: 0.3596\n",
            "Epoch 37/100\n",
            "1000/1000 [==============================] - 2s 2ms/step - loss: 0.6513 - root_mean_squared_error: 0.3145 - val_loss: 0.7177 - val_root_mean_squared_error: 0.3600\n",
            "Epoch 38/100\n",
            "1000/1000 [==============================] - 2s 2ms/step - loss: 0.6477 - root_mean_squared_error: 0.3120 - val_loss: 0.7187 - val_root_mean_squared_error: 0.3606\n",
            "Epoch 39/100\n",
            "1000/1000 [==============================] - 2s 2ms/step - loss: 0.6489 - root_mean_squared_error: 0.3128 - val_loss: 0.7193 - val_root_mean_squared_error: 0.3610\n",
            "Epoch 40/100\n",
            "1000/1000 [==============================] - 2s 2ms/step - loss: 0.6481 - root_mean_squared_error: 0.3121 - val_loss: 0.7205 - val_root_mean_squared_error: 0.3617\n",
            "Epoch 41/100\n",
            "1000/1000 [==============================] - 2s 2ms/step - loss: 0.6527 - root_mean_squared_error: 0.3155 - val_loss: 0.7207 - val_root_mean_squared_error: 0.3619\n",
            "Epoch 42/100\n",
            "1000/1000 [==============================] - 2s 2ms/step - loss: 0.6495 - root_mean_squared_error: 0.3133 - val_loss: 0.7194 - val_root_mean_squared_error: 0.3611\n",
            "Epoch 43/100\n",
            "1000/1000 [==============================] - 2s 2ms/step - loss: 0.6498 - root_mean_squared_error: 0.3134 - val_loss: 0.7180 - val_root_mean_squared_error: 0.3601\n",
            "Epoch 44/100\n",
            "1000/1000 [==============================] - 2s 2ms/step - loss: 0.6529 - root_mean_squared_error: 0.3155 - val_loss: 0.7189 - val_root_mean_squared_error: 0.3607\n",
            "Epoch 45/100\n",
            "1000/1000 [==============================] - 2s 2ms/step - loss: 0.6507 - root_mean_squared_error: 0.3142 - val_loss: 0.7188 - val_root_mean_squared_error: 0.3607\n",
            "Epoch 46/100\n",
            "1000/1000 [==============================] - 2s 2ms/step - loss: 0.6494 - root_mean_squared_error: 0.3130 - val_loss: 0.7193 - val_root_mean_squared_error: 0.3610\n",
            "Epoch 47/100\n",
            "1000/1000 [==============================] - 2s 2ms/step - loss: 0.6477 - root_mean_squared_error: 0.3121 - val_loss: 0.7205 - val_root_mean_squared_error: 0.3617\n",
            "Epoch 48/100\n",
            "1000/1000 [==============================] - 2s 2ms/step - loss: 0.6499 - root_mean_squared_error: 0.3134 - val_loss: 0.7210 - val_root_mean_squared_error: 0.3620\n",
            "Epoch 49/100\n",
            "1000/1000 [==============================] - 2s 2ms/step - loss: 0.6499 - root_mean_squared_error: 0.3136 - val_loss: 0.7207 - val_root_mean_squared_error: 0.3618\n",
            "Epoch 50/100\n",
            "1000/1000 [==============================] - 2s 2ms/step - loss: 0.6505 - root_mean_squared_error: 0.3137 - val_loss: 0.7208 - val_root_mean_squared_error: 0.3618\n",
            "Epoch 51/100\n",
            "1000/1000 [==============================] - 2s 2ms/step - loss: 0.6494 - root_mean_squared_error: 0.3132 - val_loss: 0.7200 - val_root_mean_squared_error: 0.3613\n",
            "Epoch 52/100\n",
            "1000/1000 [==============================] - 2s 2ms/step - loss: 0.6502 - root_mean_squared_error: 0.3137 - val_loss: 0.7191 - val_root_mean_squared_error: 0.3607\n",
            "Epoch 53/100\n",
            "1000/1000 [==============================] - 2s 2ms/step - loss: 0.6477 - root_mean_squared_error: 0.3118 - val_loss: 0.7201 - val_root_mean_squared_error: 0.3614\n",
            "Epoch 54/100\n",
            "1000/1000 [==============================] - 2s 2ms/step - loss: 0.6506 - root_mean_squared_error: 0.3138 - val_loss: 0.7205 - val_root_mean_squared_error: 0.3617\n",
            "Epoch 55/100\n",
            "1000/1000 [==============================] - 2s 2ms/step - loss: 0.6505 - root_mean_squared_error: 0.3138 - val_loss: 0.7187 - val_root_mean_squared_error: 0.3606\n",
            "Epoch 56/100\n",
            "1000/1000 [==============================] - 2s 2ms/step - loss: 0.6483 - root_mean_squared_error: 0.3122 - val_loss: 0.7198 - val_root_mean_squared_error: 0.3613\n",
            "Epoch 57/100\n",
            "1000/1000 [==============================] - 2s 2ms/step - loss: 0.6495 - root_mean_squared_error: 0.3131 - val_loss: 0.7190 - val_root_mean_squared_error: 0.3607\n",
            "Epoch 58/100\n",
            "1000/1000 [==============================] - 2s 2ms/step - loss: 0.6505 - root_mean_squared_error: 0.3138 - val_loss: 0.7178 - val_root_mean_squared_error: 0.3600\n",
            "Epoch 59/100\n",
            "1000/1000 [==============================] - 2s 2ms/step - loss: 0.6491 - root_mean_squared_error: 0.3129 - val_loss: 0.7193 - val_root_mean_squared_error: 0.3610\n",
            "Epoch 60/100\n",
            "1000/1000 [==============================] - 2s 2ms/step - loss: 0.6517 - root_mean_squared_error: 0.3148 - val_loss: 0.7185 - val_root_mean_squared_error: 0.3604\n",
            "Epoch 61/100\n",
            "1000/1000 [==============================] - 2s 2ms/step - loss: 0.6487 - root_mean_squared_error: 0.3126 - val_loss: 0.7194 - val_root_mean_squared_error: 0.3610\n",
            "Epoch 62/100\n",
            "1000/1000 [==============================] - 2s 2ms/step - loss: 0.6503 - root_mean_squared_error: 0.3138 - val_loss: 0.7193 - val_root_mean_squared_error: 0.3609\n",
            "Epoch 63/100\n",
            "1000/1000 [==============================] - 2s 2ms/step - loss: 0.6500 - root_mean_squared_error: 0.3135 - val_loss: 0.7187 - val_root_mean_squared_error: 0.3605\n",
            "Epoch 64/100\n",
            "1000/1000 [==============================] - 2s 2ms/step - loss: 0.6479 - root_mean_squared_error: 0.3121 - val_loss: 0.7184 - val_root_mean_squared_error: 0.3604\n",
            "Epoch 65/100\n",
            "1000/1000 [==============================] - 2s 2ms/step - loss: 0.6509 - root_mean_squared_error: 0.3140 - val_loss: 0.7192 - val_root_mean_squared_error: 0.3610\n",
            "Epoch 66/100\n",
            "1000/1000 [==============================] - 2s 2ms/step - loss: 0.6500 - root_mean_squared_error: 0.3135 - val_loss: 0.7201 - val_root_mean_squared_error: 0.3616\n",
            "Epoch 67/100\n",
            "1000/1000 [==============================] - 2s 2ms/step - loss: 0.6512 - root_mean_squared_error: 0.3144 - val_loss: 0.7198 - val_root_mean_squared_error: 0.3614\n",
            "Epoch 68/100\n",
            "1000/1000 [==============================] - 2s 2ms/step - loss: 0.6494 - root_mean_squared_error: 0.3132 - val_loss: 0.7196 - val_root_mean_squared_error: 0.3613\n",
            "Epoch 69/100\n",
            "1000/1000 [==============================] - 2s 2ms/step - loss: 0.6478 - root_mean_squared_error: 0.3118 - val_loss: 0.7191 - val_root_mean_squared_error: 0.3608\n",
            "Epoch 70/100\n",
            "1000/1000 [==============================] - 2s 2ms/step - loss: 0.6491 - root_mean_squared_error: 0.3127 - val_loss: 0.7194 - val_root_mean_squared_error: 0.3610\n",
            "Epoch 71/100\n",
            "1000/1000 [==============================] - 2s 2ms/step - loss: 0.6505 - root_mean_squared_error: 0.3140 - val_loss: 0.7196 - val_root_mean_squared_error: 0.3612\n",
            "Epoch 72/100\n",
            "1000/1000 [==============================] - 2s 2ms/step - loss: 0.6490 - root_mean_squared_error: 0.3128 - val_loss: 0.7195 - val_root_mean_squared_error: 0.3612\n",
            "Epoch 73/100\n",
            "1000/1000 [==============================] - 2s 2ms/step - loss: 0.6495 - root_mean_squared_error: 0.3132 - val_loss: 0.7197 - val_root_mean_squared_error: 0.3613\n",
            "Epoch 74/100\n",
            "1000/1000 [==============================] - 2s 2ms/step - loss: 0.6488 - root_mean_squared_error: 0.3127 - val_loss: 0.7187 - val_root_mean_squared_error: 0.3605\n",
            "Epoch 75/100\n",
            "1000/1000 [==============================] - 2s 2ms/step - loss: 0.6488 - root_mean_squared_error: 0.3126 - val_loss: 0.7185 - val_root_mean_squared_error: 0.3604\n",
            "Epoch 76/100\n",
            "1000/1000 [==============================] - 2s 2ms/step - loss: 0.6496 - root_mean_squared_error: 0.3134 - val_loss: 0.7187 - val_root_mean_squared_error: 0.3606\n",
            "Epoch 77/100\n",
            "1000/1000 [==============================] - 2s 2ms/step - loss: 0.6479 - root_mean_squared_error: 0.3121 - val_loss: 0.7204 - val_root_mean_squared_error: 0.3617\n",
            "Epoch 78/100\n",
            "1000/1000 [==============================] - 2s 2ms/step - loss: 0.6484 - root_mean_squared_error: 0.3124 - val_loss: 0.7196 - val_root_mean_squared_error: 0.3612\n",
            "Epoch 79/100\n",
            "1000/1000 [==============================] - 2s 2ms/step - loss: 0.6477 - root_mean_squared_error: 0.3121 - val_loss: 0.7196 - val_root_mean_squared_error: 0.3613\n",
            "Epoch 80/100\n",
            "1000/1000 [==============================] - 2s 2ms/step - loss: 0.6507 - root_mean_squared_error: 0.3140 - val_loss: 0.7186 - val_root_mean_squared_error: 0.3606\n",
            "Epoch 81/100\n",
            "1000/1000 [==============================] - 2s 2ms/step - loss: 0.6503 - root_mean_squared_error: 0.3138 - val_loss: 0.7195 - val_root_mean_squared_error: 0.3611\n",
            "Epoch 82/100\n",
            "1000/1000 [==============================] - 2s 2ms/step - loss: 0.6493 - root_mean_squared_error: 0.3130 - val_loss: 0.7201 - val_root_mean_squared_error: 0.3615\n",
            "Epoch 83/100\n",
            "1000/1000 [==============================] - 2s 2ms/step - loss: 0.6492 - root_mean_squared_error: 0.3130 - val_loss: 0.7194 - val_root_mean_squared_error: 0.3611\n",
            "Epoch 84/100\n",
            "1000/1000 [==============================] - 2s 2ms/step - loss: 0.6507 - root_mean_squared_error: 0.3140 - val_loss: 0.7201 - val_root_mean_squared_error: 0.3615\n",
            "Epoch 85/100\n",
            "1000/1000 [==============================] - 2s 2ms/step - loss: 0.6492 - root_mean_squared_error: 0.3129 - val_loss: 0.7208 - val_root_mean_squared_error: 0.3618\n",
            "Epoch 86/100\n",
            "1000/1000 [==============================] - 2s 2ms/step - loss: 0.6499 - root_mean_squared_error: 0.3133 - val_loss: 0.7203 - val_root_mean_squared_error: 0.3616\n",
            "Epoch 87/100\n",
            "1000/1000 [==============================] - 2s 2ms/step - loss: 0.6502 - root_mean_squared_error: 0.3138 - val_loss: 0.7186 - val_root_mean_squared_error: 0.3606\n",
            "Epoch 88/100\n",
            "1000/1000 [==============================] - 2s 2ms/step - loss: 0.6505 - root_mean_squared_error: 0.3138 - val_loss: 0.7178 - val_root_mean_squared_error: 0.3601\n",
            "Epoch 89/100\n",
            "1000/1000 [==============================] - 2s 2ms/step - loss: 0.6496 - root_mean_squared_error: 0.3135 - val_loss: 0.7191 - val_root_mean_squared_error: 0.3608\n",
            "Epoch 90/100\n",
            "1000/1000 [==============================] - 2s 2ms/step - loss: 0.6493 - root_mean_squared_error: 0.3131 - val_loss: 0.7203 - val_root_mean_squared_error: 0.3615\n",
            "Epoch 91/100\n",
            "1000/1000 [==============================] - 2s 2ms/step - loss: 0.6497 - root_mean_squared_error: 0.3135 - val_loss: 0.7218 - val_root_mean_squared_error: 0.3625\n",
            "Epoch 92/100\n",
            "1000/1000 [==============================] - 2s 2ms/step - loss: 0.6466 - root_mean_squared_error: 0.3110 - val_loss: 0.7226 - val_root_mean_squared_error: 0.3630\n",
            "Epoch 93/100\n",
            "1000/1000 [==============================] - 2s 2ms/step - loss: 0.6509 - root_mean_squared_error: 0.3143 - val_loss: 0.7215 - val_root_mean_squared_error: 0.3624\n",
            "Epoch 94/100\n",
            "1000/1000 [==============================] - 2s 2ms/step - loss: 0.6510 - root_mean_squared_error: 0.3144 - val_loss: 0.7214 - val_root_mean_squared_error: 0.3623\n",
            "Epoch 95/100\n",
            "1000/1000 [==============================] - 2s 2ms/step - loss: 0.6492 - root_mean_squared_error: 0.3131 - val_loss: 0.7206 - val_root_mean_squared_error: 0.3618\n",
            "Epoch 96/100\n",
            "1000/1000 [==============================] - 2s 2ms/step - loss: 0.6493 - root_mean_squared_error: 0.3131 - val_loss: 0.7202 - val_root_mean_squared_error: 0.3616\n",
            "Epoch 97/100\n",
            "1000/1000 [==============================] - 2s 2ms/step - loss: 0.6486 - root_mean_squared_error: 0.3126 - val_loss: 0.7205 - val_root_mean_squared_error: 0.3617\n",
            "Epoch 98/100\n",
            "1000/1000 [==============================] - 2s 2ms/step - loss: 0.6507 - root_mean_squared_error: 0.3140 - val_loss: 0.7208 - val_root_mean_squared_error: 0.3617\n",
            "Epoch 99/100\n",
            "1000/1000 [==============================] - 2s 2ms/step - loss: 0.6493 - root_mean_squared_error: 0.3131 - val_loss: 0.7205 - val_root_mean_squared_error: 0.3616\n",
            "Epoch 100/100\n",
            "1000/1000 [==============================] - 2s 2ms/step - loss: 0.6486 - root_mean_squared_error: 0.3127 - val_loss: 0.7205 - val_root_mean_squared_error: 0.3616\n"
          ]
        }
      ]
    },
    {
      "cell_type": "markdown",
      "source": [
        "Proses training dilakukan dengan 100 epoch"
      ],
      "metadata": {
        "id": "f-EAqfvS9BMD"
      }
    },
    {
      "cell_type": "code",
      "source": [
        "plt.plot(history.history['root_mean_squared_error'])\n",
        "plt.plot(history.history['val_root_mean_squared_error'])\n",
        "plt.title('model_metrics')\n",
        "plt.ylabel('root_mean_squared_error')\n",
        "plt.xlabel('epoch')\n",
        "plt.legend(['train', 'test'], loc='upper left')\n",
        "plt.show()"
      ],
      "metadata": {
        "colab": {
          "base_uri": "https://localhost:8080/",
          "height": 295
        },
        "id": "YYoTrZV44Mif",
        "outputId": "740cf735-5fbe-4766-b4a1-641538cf3901"
      },
      "execution_count": 98,
      "outputs": [
        {
          "output_type": "display_data",
          "data": {
            "text/plain": [
              "<Figure size 432x288 with 1 Axes>"
            ],
            "image/png": "[encoded data removed]"
          },
          "metadata": {
            "needs_background": "light"
          }
        }
      ]
    },
    {
      "cell_type": "markdown",
      "source": [
        "Dari proses ini, kita memperoleh nilai error pada data training akhir sebesar sekitar 0.315 dan error pada data validasi sebesar 0.36. Nilai tersebut cukup bagus untuk sistem rekomendasi."
      ],
      "metadata": {
        "id": "VetS81tR7q-M"
      }
    },
    {
      "cell_type": "code",
      "source": [
        "tourism_df = pd.read_csv('/content/tourism_with_id.csv')\n",
        "df = pd.read_csv('/content/tourism_rating.csv')\n",
        "\n",
        "# Mengambil sample user\n",
        "user_id = df.User_Id.sample(1).iloc[0]\n",
        "tourism_visited_by_user = df[df.User_Id == user_id]\n",
        "\n",
        "# Operator bitwise (~), bisa diketetahu di sini  https://docs.python.org/3/reference/expressions.html \n",
        "tourism_not_visited = tourism_df[~tourism_df['Place_Id'].isin(tourism_visited_by_user.Place_Id.values)]['Place_Id'] \n",
        "tourism_not_visited = list(\n",
        "    set(tourism_not_visited)\n",
        "    .intersection(set(tourism_to_tourism_encoded.keys()))\n",
        ")\n",
        "\n",
        "tourism_not_visited = [[tourism_to_tourism_encoded.get(x)] for x in tourism_not_visited]\n",
        "user_encoder = user_to_user_encoded.get(user_id)\n",
        "user_resto_array = np.hstack(\n",
        "    ([[user_encoder]] * len(tourism_not_visited), tourism_not_visited)\n",
        ")"
      ],
      "metadata": {
        "id": "uh3douecF1nO"
      },
      "execution_count": 101,
      "outputs": []
    },
    {
      "cell_type": "markdown",
      "source": [
        "kita telah membuat varibale tourism_not_visited sebagai daftar pariwisata untuk direkomendasikan pada pnegguna"
      ],
      "metadata": {
        "id": "X36e_HGWPQrs"
      }
    },
    {
      "cell_type": "code",
      "source": [
        "ratings = model.predict(user_resto_array).flatten()\n",
        "     \n",
        "top_ratings_indices = ratings.argsort()[-10:][::-1]\n",
        "recommended_tourism_ids = [\n",
        "    tourism_encoded_to_tourism.get(tourism_not_visited[x][0]) for x in top_ratings_indices\n",
        "]\n",
        "     \n",
        "print('Showing recommendations for users: {}'.format(user_id))\n",
        "print('===' * 9)\n",
        "print('Tourism with high ratings from user')\n",
        "print('----' * 8)\n",
        "     \n",
        "top_tourism_user = (\n",
        "    tourism_visited_by_user.sort_values(\n",
        "        by = 'Place_Ratings',\n",
        "        ascending=False\n",
        "    )\n",
        "    .head(5)\n",
        "    .Place_Id.values\n",
        ")\n",
        "     \n",
        "tourism_df_rows = tourism_df[tourism_df['Place_Id'].isin(top_tourism_user)]\n",
        "for row in tourism_df_rows.itertuples():\n",
        "    print(row.Place_Name, ':', row.Category)\n",
        "     \n",
        "print('----' * 8)\n",
        "print('Top 10 resto recommendation')\n",
        "print('----' * 8)\n",
        "     \n",
        "recommended_tourism = tourism_df[tourism_df['Place_Id'].isin(recommended_resto_ids)]\n",
        "for row in recommended_tourism.itertuples():\n",
        "  print(row.Place_Name, ':', row.Category)"
      ],
      "metadata": {
        "colab": {
          "base_uri": "https://localhost:8080/"
        },
        "id": "889uJRZjLMVv",
        "outputId": "592579dc-3f7f-48be-c6f2-d8af9bacd237"
      },
      "execution_count": 112,
      "outputs": [
        {
          "output_type": "stream",
          "name": "stdout",
          "text": [
            "Showing recommendations for users: 154\n",
            "===========================\n",
            "Tourism with high ratings from user\n",
            "--------------------------------\n",
            "Waterboom PIK (Pantai Indah Kapuk) : Taman Hiburan\n",
            "Pantai Baron : Bahari\n",
            "Green Village Gedangsari : Taman Hiburan\n",
            "Pantai Congot : Bahari\n",
            "Gunung Lalakon : Cagar Alam\n",
            "--------------------------------\n",
            "Top 10 resto recommendation\n",
            "--------------------------------\n",
            "Skyrink - Mall Taman Anggrek : Taman Hiburan\n",
            "Bumi Perkemahan Cibubur : Taman Hiburan\n",
            "Galeri Nasional Indonesia : Budaya\n",
            "Monumen Selamat Datang : Budaya\n",
            "Taman Situ Lembang : Taman Hiburan\n",
            "Jakarta Planetarium : Taman Hiburan\n",
            "Kampung Cina : Budaya\n",
            "Rumah Sipitung : Budaya\n",
            "Museum Tekstil : Budaya\n",
            "Bukit Moko : Cagar Alam\n"
          ]
        }
      ]
    },
    {
      "cell_type": "markdown",
      "source": [
        "Rekomendasi untuk user dengan id 154.kita memperoleh 4 rekomendasi pariwisata dengan kategori Taman Hiburan, dan 1 pariwisata dengan kategori Cagar Alam."
      ],
      "metadata": {
        "id": "2zO8kmEmLL5Y"
      }
    }
  ]
}